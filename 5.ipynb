{
  "nbformat": 4,
  "nbformat_minor": 0,
  "metadata": {
    "colab": {
      "provenance": [],
      "authorship_tag": "ABX9TyM+gIg6+ZAg659+2Ost7pW+",
      "include_colab_link": true
    },
    "kernelspec": {
      "name": "python3",
      "display_name": "Python 3"
    },
    "language_info": {
      "name": "python"
    }
  },
  "cells": [
    {
      "cell_type": "markdown",
      "metadata": {
        "id": "view-in-github",
        "colab_type": "text"
      },
      "source": [
        "<a href=\"https://colab.research.google.com/github/aravetivanaja/Tech-labs/blob/main/5.ipynb\" target=\"_parent\"><img src=\"https://colab.research.google.com/assets/colab-badge.svg\" alt=\"Open In Colab\"/></a>"
      ]
    },
    {
      "cell_type": "code",
      "execution_count": 15,
      "metadata": {
        "colab": {
          "base_uri": "https://localhost:8080/"
        },
        "id": "pbkPCklp2bUe",
        "outputId": "2c905f55-eb7c-4152-c270-4c24d785e383"
      },
      "outputs": [
        {
          "output_type": "stream",
          "name": "stdout",
          "text": [
            "max 548\n",
            "min 54\n"
          ]
        }
      ],
      "source": [
        "#find the minimum and maximum element in an array\n",
        "l=[54,546,548,60]\n",
        "l.sort()\n",
        "\n",
        "print(\"max\",l[-1])\n",
        "print(\"min\",l[0])\n",
        "\n",
        ""
      ]
    }
  ]
}