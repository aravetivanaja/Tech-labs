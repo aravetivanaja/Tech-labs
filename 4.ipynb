{
  "nbformat": 4,
  "nbformat_minor": 0,
  "metadata": {
    "colab": {
      "provenance": [],
      "authorship_tag": "ABX9TyNe3/OWIXW9Lye2u2fZyGIu",
      "include_colab_link": true
    },
    "kernelspec": {
      "name": "python3",
      "display_name": "Python 3"
    },
    "language_info": {
      "name": "python"
    }
  },
  "cells": [
    {
      "cell_type": "markdown",
      "metadata": {
        "id": "view-in-github",
        "colab_type": "text"
      },
      "source": [
        "<a href=\"https://colab.research.google.com/github/aravetivanaja/Tech-labs/blob/main/4.ipynb\" target=\"_parent\"><img src=\"https://colab.research.google.com/assets/colab-badge.svg\" alt=\"Open In Colab\"/></a>"
      ]
    },
    {
      "cell_type": "code",
      "execution_count": 3,
      "metadata": {
        "colab": {
          "base_uri": "https://localhost:8080/"
        },
        "id": "U3FKOfOazSNg",
        "outputId": "275654a6-939c-4737-ad9c-a5f118267e42"
      },
      "outputs": [
        {
          "output_type": "stream",
          "name": "stdout",
          "text": [
            "enter a number988\n",
            "reverse 889\n"
          ]
        }
      ],
      "source": [
        "#reverse a number\n",
        "n=int(input(\"enter a number\"))\n",
        "r=0\n",
        "while(n!=0):\n",
        "  d=n%10\n",
        "  r=r*10+d\n",
        "  n//=10\n",
        "print(\"reverse\",r)"
      ]
    }
  ]
}