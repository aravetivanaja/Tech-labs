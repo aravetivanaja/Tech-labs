{
  "nbformat": 4,
  "nbformat_minor": 0,
  "metadata": {
    "colab": {
      "provenance": [],
      "authorship_tag": "ABX9TyO8TRndeVhLc39cxmCFa1xI",
      "include_colab_link": true
    },
    "kernelspec": {
      "name": "python3",
      "display_name": "Python 3"
    },
    "language_info": {
      "name": "python"
    }
  },
  "cells": [
    {
      "cell_type": "markdown",
      "metadata": {
        "id": "view-in-github",
        "colab_type": "text"
      },
      "source": [
        "<a href=\"https://colab.research.google.com/github/aravetivanaja/Tech-labs/blob/main/2.ipynb\" target=\"_parent\"><img src=\"https://colab.research.google.com/assets/colab-badge.svg\" alt=\"Open In Colab\"/></a>"
      ]
    },
    {
      "cell_type": "code",
      "execution_count": 11,
      "metadata": {
        "colab": {
          "base_uri": "https://localhost:8080/"
        },
        "id": "UDFXfrA2xUrs",
        "outputId": "8be16f2f-4310-4e0c-a8ce-ccbafb915778"
      },
      "outputs": [
        {
          "output_type": "stream",
          "name": "stdout",
          "text": [
            "enter a number2456\n",
            "No\n"
          ]
        }
      ],
      "source": [
        "#check whether a number is a prime number or not\n",
        "n=int(input(\"enter a number\"))\n",
        "i=2\n",
        "flag=0\n",
        "if(n>1):\n",
        "  for i in range(2,n):\n",
        "    if(n%i==0):\n",
        "      flag=1\n",
        "      break\n",
        "  if(flag==0):\n",
        "      print(\"yes\")\n",
        "  else:\n",
        "      print(\"No\")\n"
      ]
    }
  ]
}