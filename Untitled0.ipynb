{
  "nbformat": 4,
  "nbformat_minor": 0,
  "metadata": {
    "colab": {
      "provenance": [],
      "authorship_tag": "ABX9TyM6EFBPD0V3K7GV5JhDjWqQ",
      "include_colab_link": true
    },
    "kernelspec": {
      "name": "python3",
      "display_name": "Python 3"
    },
    "language_info": {
      "name": "python"
    }
  },
  "cells": [
    {
      "cell_type": "markdown",
      "metadata": {
        "id": "view-in-github",
        "colab_type": "text"
      },
      "source": [
        "<a href=\"https://colab.research.google.com/github/aravetivanaja/Tech-labs/blob/main/Untitled0.ipynb\" target=\"_parent\"><img src=\"https://colab.research.google.com/assets/colab-badge.svg\" alt=\"Open In Colab\"/></a>"
      ]
    },
    {
      "cell_type": "code",
      "execution_count": 4,
      "metadata": {
        "colab": {
          "base_uri": "https://localhost:8080/"
        },
        "id": "gJv-G7V56Blb",
        "outputId": "29f6c6dd-cea6-4cd6-92f7-3adeec03368e"
      },
      "outputs": [
        {
          "output_type": "stream",
          "name": "stdout",
          "text": [
            "6054854654\n"
          ]
        }
      ],
      "source": [
        "#\n",
        "def l(a):\n",
        "  if(len(a)==1):\n",
        "    return str(a[o])\n",
        "  for i in range(len(a)):\n",
        "    a[i]=str(a[i])\n",
        "  for i in range(len(a)):\n",
        "    for j in range(1+i,len(a)):\n",
        "      if(a[j]+a[i]>a[i]+a[j]):\n",
        "        a[i],a[j]=a[j],a[i]\n",
        "  r=''.join(a)\n",
        "  if(r=='0'*len(r)):\n",
        "    return '0'\n",
        "  else:\n",
        "    return r\n",
        "a=[54,546,548,60]\n",
        "print(l(a))"
      ]
    }
  ]
}